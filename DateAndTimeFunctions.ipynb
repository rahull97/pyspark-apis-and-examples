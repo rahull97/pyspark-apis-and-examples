{
 "cells": [
  {
   "cell_type": "code",
   "execution_count": null,
   "id": "c1fe08b2",
   "metadata": {},
   "outputs": [],
   "source": [
    "import findspark\n",
    "findspark.init()\n",
    "findspark.find()\n",
    "\n",
    "import pyspark\n",
    "from pyspark.sql import SparkSession,Window\n",
    "from pyspark.sql.functions import *\n",
    "from pyspark.sql.types import *"
   ]
  },
  {
   "cell_type": "code",
   "execution_count": null,
   "id": "d9456503",
   "metadata": {},
   "outputs": [],
   "source": [
    "spark = SparkSession.builder.appName(\"Data and Time Functions\").master(\"local[3]\").getOrCreate()"
   ]
  },
  {
   "cell_type": "code",
   "execution_count": null,
   "id": "910231b0",
   "metadata": {},
   "outputs": [],
   "source": [
    "#-------------------------------------------------------------------------\n",
    "\n",
    "emp = [\n",
    "    (1, \"AAA\", \"dept1\", 1000, \"2019-02-01 15:12:13\"),\n",
    "    (2, \"BBB\", \"dept1\", 1100, \"2018-04-01 5:12:3\"),\n",
    "    (3, \"CCC\", \"dept1\", 3000, \"2017-06-05 1:2:13\"),\n",
    "    (4, \"DDD\", \"dept1\", 1500, \"2019-08-10 10:52:53\"),\n",
    "    (5, \"EEE\", \"dept2\", 8000, \"2016-01-11 5:52:43\"),\n",
    "    (6, \"FFF\", \"dept2\", 7200, \"2015-04-14 19:32:33\"),\n",
    "    (7, \"GGG\", \"dept3\", 7100, \"2019-02-21 15:42:43\"),\n",
    "    (8, \"HHH\", \"dept3\", 3700, \"2016-09-25 15:32:33\"),\n",
    "    (9, \"III\", \"dept3\", 4500, \"2017-10-15 15:22:23\"),\n",
    "    (10, \"JJJ\", \"dept5\", 3400, \"2018-12-17 15:14:17\")\n",
    "]\n",
    "\n",
    "empdf = spark.createDataFrame(emp, [\"id\", \"name\", \"dept\", \"salary\", \"date\"])\n",
    "empdf.printSchema()\n",
    "empdf.show()\n",
    "\n",
    "#-------------------------------------------------------------------------"
   ]
  },
  {
   "cell_type": "code",
   "execution_count": null,
   "id": "5516f5e0",
   "metadata": {},
   "outputs": [],
   "source": [
    "#-------------------------------------------------------------------------\n",
    "\n",
    "# add_months()\n",
    "\n",
    "df = empdf.withColumn(\"next_month\", add_months(\"date\", 1))\n",
    "df.printSchema()\n",
    "df.show()\n",
    "\n",
    "#-------------------------------------------------------------------------"
   ]
  },
  {
   "cell_type": "code",
   "execution_count": null,
   "id": "04b44c6d",
   "metadata": {},
   "outputs": [],
   "source": [
    "#-------------------------------------------------------------------------\n",
    "\n",
    "# current_date()\n",
    "\n",
    "df = empdf.withColumn(\"current_date\", current_date()).select(\"id\", \"current_date\")\n",
    "df.printSchema()\n",
    "df.show()\n",
    "\n",
    "#-------------------------------------------------------------------------"
   ]
  },
  {
   "cell_type": "code",
   "execution_count": null,
   "id": "5584b6ac",
   "metadata": {},
   "outputs": [],
   "source": [
    "#-------------------------------------------------------------------------\n",
    "\n",
    "# current_timestamp()\n",
    "\n",
    "df = empdf.withColumn(\"current_timestamp\", current_timestamp()).select(\"id\", \"current_timestamp\")\n",
    "df.printSchema()\n",
    "df.show(truncate=False)\n",
    "\n",
    "#-------------------------------------------------------------------------"
   ]
  },
  {
   "cell_type": "code",
   "execution_count": null,
   "id": "98d0ce7f",
   "metadata": {},
   "outputs": [],
   "source": [
    "#-------------------------------------------------------------------------\n",
    "\n",
    "# date_add()\n",
    "\n",
    "df = empdf.select(\"date\").withColumn(\"next_date\", date_add(\"date\", 5))\n",
    "df.printSchema()\n",
    "df.show(truncate=False)\n",
    "\n",
    "#-------------------------------------------------------------------------"
   ]
  },
  {
   "cell_type": "code",
   "execution_count": null,
   "id": "d84dd2a8",
   "metadata": {},
   "outputs": [],
   "source": [
    "#-------------------------------------------------------------------------\n",
    "\n",
    "# date_format()\n",
    "\n",
    "\"\"\"\n",
    "This function converts the date to a specified format\n",
    "\"\"\"\n",
    "\n",
    "df = (empdf\n",
    "      .select(\"date\")\n",
    "      .withColumn(\"formatted_date\", date_format(\"date\", \"dd/MM/yyyy\"))\n",
    "      .withColumn(\"another_formatted_date\", date_format(\"date\", \"yyyy-MM-dd\"))\n",
    "     )\n",
    "df.printSchema()\n",
    "df.show(truncate=False)\n",
    "#-------------------------------------------------------------------------"
   ]
  },
  {
   "cell_type": "code",
   "execution_count": null,
   "id": "b683e7af",
   "metadata": {},
   "outputs": [],
   "source": [
    "#-------------------------------------------------------------------------\n",
    "\n",
    "# date_sub()\n",
    "\n",
    "df = df.select(\"date\").withColumn(\"previous_date\", date_sub(\"date\", 5))\n",
    "df.printSchema()\n",
    "df.show()\n",
    "\n",
    "#-------------------------------------------------------------------------"
   ]
  },
  {
   "cell_type": "code",
   "execution_count": null,
   "id": "ccc4fb5c",
   "metadata": {
    "scrolled": true
   },
   "outputs": [],
   "source": [
    "#-------------------------------------------------------------------------\n",
    "\n",
    "# date_trunc()\n",
    "\n",
    "\"\"\"\n",
    "This function returns a timestamp truncated to a specified unit.\n",
    "It could be year, month, day, hour, minute, second, week or quarter.\n",
    "1. yyyy or yy or year\n",
    "2. mm or month or mon\n",
    "3. day or dd\n",
    "4. hour\n",
    "5. minute\n",
    "6. second\n",
    "7. week\n",
    "8. quarter\n",
    "\"\"\"\n",
    "\n",
    "# truncate date by year: we can use \"yyyy\" or \"yy\" or \"year\" to specify year\n",
    "\n",
    "df = empdf.select(\"date\").withColumn(\"new_timestamp\", date_trunc(\"yyyy\", \"date\"))\n",
    "df.printSchema()\n",
    "df.show()\n",
    "\n",
    "print(\"=====================================================\")\n",
    "\n",
    "# truncate date by month: we can use \"mm\" or \"month\" or \"mon\" to specify month\n",
    "\n",
    "df = empdf.select(\"date\").withColumn(\"new_timestamp\", date_trunc(\"mm\", \"date\"))\n",
    "df.printSchema()\n",
    "df.show()\n",
    "\n",
    "print(\"=====================================================\")\n",
    "\n",
    "# truncate date by day: we can use \"day\" or \"dd\" to specify day\n",
    "\n",
    "df = empdf.select(\"date\").withColumn(\"new_timestamp\", date_trunc(\"day\", \"date\"))\n",
    "df.printSchema()\n",
    "df.show()\n",
    "\n",
    "print(\"=====================================================\")\n",
    "\n",
    "#-------------------------------------------------------------------------"
   ]
  },
  {
   "cell_type": "code",
   "execution_count": null,
   "id": "89c0cc56",
   "metadata": {},
   "outputs": [],
   "source": [
    "#-------------------------------------------------------------------------\n",
    "\n",
    "# datediff()\n",
    "\n",
    "\"\"\"\n",
    "This function returns the difference between dates in terms of days\n",
    "\"\"\"\n",
    "\n",
    "df = empdf.select(\"date\").withColumn(\"current_date\", current_date()).withColumn(\"date_diff\", datediff(\"current_date\", \"date\"))\n",
    "df.printSchema()\n",
    "df.show(truncate=False)\n",
    "\n",
    "#-------------------------------------------------------------------------"
   ]
  },
  {
   "cell_type": "code",
   "execution_count": null,
   "id": "6f3a0ef3",
   "metadata": {},
   "outputs": [],
   "source": [
    "#-------------------------------------------------------------------------\n",
    "\n",
    "# dayofmonth()\n",
    "\n",
    "\"\"\"\n",
    "This function returns the day of month\n",
    "\"\"\"\n",
    "\n",
    "df = empdf.select(\"date\").withColumn(\"day_of_month\", dayofmonth(\"date\"))\n",
    "df.printSchema()\n",
    "df.show(truncate=False)\n",
    "\n",
    "#-------------------------------------------------------------------------"
   ]
  },
  {
   "cell_type": "code",
   "execution_count": null,
   "id": "82e5ec99",
   "metadata": {},
   "outputs": [],
   "source": [
    "#-------------------------------------------------------------------------\n",
    "\n",
    "# dayofweek()\n",
    "\n",
    "\"\"\"\n",
    "This function returns the day of the week as an integer.\n",
    "It will consider Sunday as 1st and Saturday as 7th\n",
    "\"\"\"\n",
    "\n",
    "df = empdf.select(\"date\", dayofweek(\"date\").alias(\"day_of_week\"))\n",
    "df.printSchema()\n",
    "df.show()\n",
    "\n",
    "#-------------------------------------------------------------------------"
   ]
  },
  {
   "cell_type": "code",
   "execution_count": null,
   "id": "3ebe4cb4",
   "metadata": {},
   "outputs": [],
   "source": [
    "#-------------------------------------------------------------------------\n",
    "\n",
    "# dayofyear()\n",
    "\n",
    "\"\"\"\n",
    "This function returns day of the year as an integer\n",
    "\"\"\"\n",
    "\n",
    "df = empdf.select(\"date\").withColumn(\"day_of_year\", dayofyear(\"date\"))\n",
    "df.printSchema()\n",
    "df.show()\n",
    "\n",
    "#-------------------------------------------------------------------------"
   ]
  },
  {
   "cell_type": "code",
   "execution_count": null,
   "id": "00119d58",
   "metadata": {},
   "outputs": [],
   "source": [
    "#-------------------------------------------------------------------------\n",
    "\n",
    "# from_utc_timestamp()\n",
    "\n",
    "\"\"\"\n",
    "This function converts UTC timestamps to timestamps of any specified timezone.\n",
    "By default, it assumes the date is a UTC timestamp\n",
    "\"\"\"\n",
    "\n",
    "df = empdf.select(\"date\").withColumn(\"ist_timestamp\", from_utc_timestamp(\"date\", \"IST\"))\n",
    "df.printSchema()\n",
    "df.show(truncate=False)\n",
    "\n",
    "#-------------------------------------------------------------------------"
   ]
  },
  {
   "cell_type": "code",
   "execution_count": null,
   "id": "5f3fb6d2",
   "metadata": {},
   "outputs": [],
   "source": [
    "#-------------------------------------------------------------------------\n",
    "\n",
    "# unix_timestamp()\n",
    "\n",
    "\"\"\"\n",
    "This function converts timestamp strings of the given format to Unix timestamps(in seconds).\n",
    "Default format: \"yyyy-MM-dd HH:mm:ss\"\n",
    "\"\"\"\n",
    "\n",
    "df = empdf.select(\"date\").withColumn(\"unix_timestamp\", unix_timestamp(\"date\", \"yyyy-MM-dd HH:mm:ss\"))\n",
    "df.printSchema()\n",
    "df.show()\n",
    "\n",
    "#-------------------------------------------------------------------------"
   ]
  },
  {
   "cell_type": "code",
   "execution_count": null,
   "id": "e4c95b04",
   "metadata": {},
   "outputs": [],
   "source": [
    "#-------------------------------------------------------------------------\n",
    "\n",
    "# from_unixtime()\n",
    "\n",
    "\"\"\"\n",
    "This function converts the number of seconds from Unix epoch(1970-01-01 00:00:00 UTC)\n",
    "to a given string format.\n",
    "\"\"\"\n",
    "\n",
    "df = empdf.select(\"date\", unix_timestamp(\"date\").alias(\"unix_timestamp\"))\n",
    "df = df.withColumn(\"from_unix_time\", from_unixtime(\"unix_timestamp\"))\n",
    "df.printSchema()\n",
    "df.show(truncate=False)\n",
    "\n",
    "#-------------------------------------------------------------------------"
   ]
  },
  {
   "cell_type": "code",
   "execution_count": null,
   "id": "0eda8fca",
   "metadata": {},
   "outputs": [],
   "source": [
    "#-------------------------------------------------------------------------\n",
    "\n",
    "# hour()\n",
    "\n",
    "\"\"\"This function returns hour part of the date\"\"\"\n",
    "\n",
    "empdf.select(\"date\", hour(\"date\").alias(\"hour\")).show()\n",
    "\n",
    "#-------------------------------------------------------------------------"
   ]
  },
  {
   "cell_type": "code",
   "execution_count": null,
   "id": "8c8290f1",
   "metadata": {},
   "outputs": [],
   "source": [
    "#-------------------------------------------------------------------------\n",
    "\n",
    "# last_day()\n",
    "\n",
    "\"\"\"This function returns the last date of the month for a given date\"\"\"\n",
    "\n",
    "empdf.select(\"date\", last_day(\"date\").alias(\"last_date_of_month\")).show()\n",
    "\n",
    "#-------------------------------------------------------------------------"
   ]
  },
  {
   "cell_type": "code",
   "execution_count": null,
   "id": "60f316e8",
   "metadata": {},
   "outputs": [],
   "source": [
    "#-------------------------------------------------------------------------\n",
    "\n",
    "# minute()\n",
    "\n",
    "\"\"\"This function returns minute part of date\"\"\"\n",
    "\n",
    "empdf.select(\"date\", minute(\"date\").alias(\"date\")).show()\n",
    "\n",
    "#-------------------------------------------------------------------------"
   ]
  },
  {
   "cell_type": "code",
   "execution_count": null,
   "id": "91b0558e",
   "metadata": {},
   "outputs": [],
   "source": [
    "#-------------------------------------------------------------------------\n",
    "\n",
    "# month()\n",
    "\n",
    "\"\"\"This function returns month part of date\"\"\"\n",
    "\n",
    "empdf.select(\"date\", month(\"date\").alias(\"month\")).show()\n",
    "\n",
    "#-------------------------------------------------------------------------"
   ]
  },
  {
   "cell_type": "code",
   "execution_count": null,
   "id": "e824d33a",
   "metadata": {},
   "outputs": [],
   "source": [
    "#-------------------------------------------------------------------------\n",
    "\n",
    "# months_between()\n",
    "\n",
    "\"\"\"\n",
    "This function returns the difference between dates in terms of months.\n",
    "if first_date > second_date then result is positive else negative.\n",
    "\"\"\"\n",
    "\n",
    "df = empdf.select(\"date\").withColumn(\"current_date\", current_date())\n",
    "df = df.withColumn(\"months_between\", months_between(\"current_date\", \"date\"))\n",
    "df.printSchema()\n",
    "df.show()\n",
    "\n",
    "#-------------------------------------------------------------------------"
   ]
  },
  {
   "cell_type": "code",
   "execution_count": null,
   "id": "29dc36fa",
   "metadata": {},
   "outputs": [],
   "source": [
    "#-------------------------------------------------------------------------\n",
    "\n",
    "# next_day()\n",
    "\n",
    "\"\"\"\n",
    "This function returns the next day based on the dayOfWeek specified in the next argument. \n",
    "For e.g. for 1st Feb 2019 (Friday) if we ask for next_day as Sunday, it will return 3rd Feb 2019.\n",
    "\"\"\"\n",
    "\n",
    "df = empdf.select(\"date\").withColumn(\"next_day\", next_day(\"date\", \"sun\"))\n",
    "df.printSchema()\n",
    "df.show()\n",
    "\n",
    "#-------------------------------------------------------------------------"
   ]
  },
  {
   "cell_type": "code",
   "execution_count": null,
   "id": "82527e94",
   "metadata": {},
   "outputs": [],
   "source": [
    "#-------------------------------------------------------------------------\n",
    "\n",
    "# quarter()\n",
    "\n",
    "\"\"\"This function returns the quarter of given date as integer\"\"\"\n",
    "\n",
    "empdf.select(\"date\", quarter(\"date\").alias(\"quarter_of_date\")).show()\n",
    "\n",
    "#-------------------------------------------------------------------------"
   ]
  },
  {
   "cell_type": "code",
   "execution_count": null,
   "id": "223c8153",
   "metadata": {},
   "outputs": [],
   "source": [
    "#-------------------------------------------------------------------------\n",
    "\n",
    "# second()\n",
    "\n",
    "\"\"\"This function returns second part of the date\"\"\"\n",
    "\n",
    "empdf.select(\"date\", second(\"date\").alias(\"second_part_of_date\")).show()\n",
    "\n",
    "#-------------------------------------------------------------------------"
   ]
  },
  {
   "cell_type": "code",
   "execution_count": null,
   "id": "a99ec473",
   "metadata": {},
   "outputs": [],
   "source": [
    "#-------------------------------------------------------------------------\n",
    "\n",
    "# to_date()\n",
    "\n",
    "\"\"\"This function converts string or timestamp to date\"\"\"\n",
    "\n",
    "df = empdf.select(\"date\").withColumn(\"to_date\", to_date(\"date\", format='yyyy-MM-dd HH:mm:ss'))\n",
    "df.printSchema()\n",
    "df.show()\n",
    "\n",
    "#-------------------------------------------------------------------------\n",
    "\n",
    "\n",
    "df1 = spark.createDataFrame([('15/02/2019 10:30:00',)], ['date'])\n",
    "df2 = df1.withColumn(\"new_date\", to_date(\"date\", 'dd/MM/yyyy HH:mm:ss'))\n",
    "df2.printSchema()\n",
    "df2.show()\n",
    "\n",
    "#-------------------------------------------------------------------------"
   ]
  },
  {
   "cell_type": "code",
   "execution_count": null,
   "id": "debaba42",
   "metadata": {},
   "outputs": [],
   "source": [
    "#-------------------------------------------------------------------------\n",
    "\n",
    "# to_timestamp()\n",
    "\n",
    "\"\"\"\n",
    "This function converts String to Timestamp.\n",
    "Default format: yyyy-MM-dd HH:mm:ss\n",
    "\"\"\"\n",
    "\n",
    "df1 = spark.createDataFrame([('15/02/2019 10:30:00',)], ['date'])\n",
    "df2 = df1.withColumn(\"new_date\", to_timestamp(\"date\", 'dd/MM/yyyy HH:mm:ss'))\n",
    "df2.printSchema()\n",
    "df2.show(2)\n",
    "\n",
    "#-------------------------------------------------------------------------"
   ]
  },
  {
   "cell_type": "code",
   "execution_count": null,
   "id": "c7613d1e",
   "metadata": {},
   "outputs": [],
   "source": [
    "#-------------------------------------------------------------------------\n",
    "\n",
    "# to_utc_timestamp\n",
    "\n",
    "\"\"\"This function converts given timestamp to UTC timestamp\"\"\"\n",
    "\n",
    "df = empdf.select(\"date\").withColumn(\"utc_timestamp\", to_utc_timestamp(\"date\", \"IST\")) # convert IST to UTC\n",
    "df.printSchema()\n",
    "df.show()\n",
    "\n",
    "#-------------------------------------------------------------------------"
   ]
  },
  {
   "cell_type": "code",
   "execution_count": null,
   "id": "e81023a7",
   "metadata": {},
   "outputs": [],
   "source": [
    "#-------------------------------------------------------------------------\n",
    "\n",
    "# weekofyear()\n",
    "\n",
    "\"\"\"This function returns week of year for the given date\"\"\"\n",
    "\n",
    "empdf.select(\"date\", weekofyear(\"date\").alias(\"week_number\")).show()\n",
    "\n",
    "#-------------------------------------------------------------------------"
   ]
  },
  {
   "cell_type": "code",
   "execution_count": null,
   "id": "cd3f9a1a",
   "metadata": {},
   "outputs": [],
   "source": [
    "#-------------------------------------------------------------------------\n",
    "\n",
    "# year()\n",
    "\n",
    "\"\"\"This function returns year part of the date\"\"\"\n",
    "\n",
    "empdf.select(\"date\", year(\"date\").alias(\"year\")).show()\n",
    "\n",
    "#-------------------------------------------------------------------------"
   ]
  }
 ],
 "metadata": {
  "kernelspec": {
   "display_name": "Python [conda env:py36]",
   "language": "python",
   "name": "conda-env-py36-py"
  },
  "language_info": {
   "codemirror_mode": {
    "name": "ipython",
    "version": 3
   },
   "file_extension": ".py",
   "mimetype": "text/x-python",
   "name": "python",
   "nbconvert_exporter": "python",
   "pygments_lexer": "ipython3",
   "version": "3.6.10"
  }
 },
 "nbformat": 4,
 "nbformat_minor": 5
}
