{
 "cells": [
  {
   "cell_type": "code",
   "execution_count": null,
   "id": "6b49ed36",
   "metadata": {},
   "outputs": [],
   "source": [
    "import findspark\n",
    "findspark.init()\n",
    "findspark.find()\n",
    "\n",
    "import pyspark\n",
    "from pyspark.sql import SparkSession,Window\n",
    "from pyspark.sql.functions import *\n",
    "from pyspark.sql.types import *"
   ]
  },
  {
   "cell_type": "code",
   "execution_count": null,
   "id": "cb502afa",
   "metadata": {},
   "outputs": [],
   "source": [
    "spark = SparkSession.builder.appName(\"Window Functions\").master(\"local[3]\").getOrCreate()"
   ]
  },
  {
   "cell_type": "code",
   "execution_count": null,
   "id": "d0d78a59",
   "metadata": {},
   "outputs": [],
   "source": [
    "#-------------------------------------------------------------------------\n",
    "\n",
    "simpleData = [\n",
    "    (\"James\", \"Sales\", 3000),\n",
    "    (\"Michael\", \"Sales\", 4600),\n",
    "    (\"Robert\", \"Sales\", 4100),\n",
    "    (\"Maria\", \"Finance\", 3000),\n",
    "    (\"James\", \"Sales\", 3000),\n",
    "    (\"Scott\", \"Finance\", 3300),\n",
    "    (\"Jen\", \"Finance\", 3900),\n",
    "    (\"Jeff\", \"Marketing\", 3000),\n",
    "    (\"Kumar\", \"Marketing\", 2000),\n",
    "    (\"Saif\", \"Sales\", 4100)\n",
    "]\n",
    " \n",
    "columns= [\"employee_name\", \"department\", \"salary\"]\n",
    "df = spark.createDataFrame(data=simpleData,schema=columns)\n",
    "df.printSchema()\n",
    "df.show(truncate=False)\n",
    "\n",
    "#-------------------------------------------------------------------------"
   ]
  },
  {
   "cell_type": "code",
   "execution_count": null,
   "id": "b82bf587",
   "metadata": {},
   "outputs": [],
   "source": [
    "#-------------------------------------------------------------------------\n",
    "\n",
    "# row_number()\n",
    "\n",
    "window = Window.partitionBy(\"department\").orderBy(\"salary\")\n",
    "\n",
    "df1 = df.withColumn(\"row_num\", row_number().over(window))\n",
    "df1.show()\n",
    "\n",
    "#-------------------------------------------------------------------------"
   ]
  },
  {
   "cell_type": "code",
   "execution_count": null,
   "id": "df554d75",
   "metadata": {},
   "outputs": [],
   "source": [
    "#-------------------------------------------------------------------------\n",
    "\n",
    "# rank()\n",
    "\n",
    "window = Window.partitionBy(\"department\").orderBy(\"salary\")\n",
    "\n",
    "df1 = df.withColumn(\"rank\", rank().over(window))\n",
    "df1.show()\n",
    "\n",
    "#-------------------------------------------------------------------------"
   ]
  },
  {
   "cell_type": "code",
   "execution_count": null,
   "id": "894c698c",
   "metadata": {},
   "outputs": [],
   "source": [
    "#-------------------------------------------------------------------------\n",
    "\n",
    "# dense_rank()\n",
    "\n",
    "window = Window.partitionBy(\"department\").orderBy(col(\"salary\").desc())\n",
    "\n",
    "df1 = df.withColumn(\"dense_rank\", dense_rank().over(window))\n",
    "df1.show()\n",
    "\n",
    "#-------------------------------------------------------------------------"
   ]
  },
  {
   "cell_type": "code",
   "execution_count": null,
   "id": "d215be1f",
   "metadata": {},
   "outputs": [],
   "source": [
    "#-------------------------------------------------------------------------\n",
    "\n",
    "# lag()\n",
    "\n",
    "window = Window.partitionBy(\"department\").orderBy(\"salary\")\n",
    "\n",
    "df1 = df.withColumn(\"lag\", lag(\"salary\", 2).over(window))\n",
    "df1.show()\n",
    "\n",
    "#-------------------------------------------------------------------------"
   ]
  },
  {
   "cell_type": "code",
   "execution_count": null,
   "id": "4af6b84c",
   "metadata": {},
   "outputs": [],
   "source": [
    "#-------------------------------------------------------------------------\n",
    "\n",
    "# lead()\n",
    "\n",
    "window = Window.partitionBy(\"department\").orderBy(\"salary\")\n",
    "\n",
    "df1 = df.withColumn(\"lead\", lead(\"salary\", 2).over(window))\n",
    "df1.show()\n",
    "\n",
    "#-------------------------------------------------------------------------"
   ]
  },
  {
   "cell_type": "code",
   "execution_count": null,
   "id": "ab9e3b95",
   "metadata": {},
   "outputs": [],
   "source": [
    "#-------------------------------------------------------------------------\n",
    "\n",
    "# window aggregate functions\n",
    "\n",
    "window = Window.partitionBy(\"department\")\n",
    "\n",
    "df1 = df.withColumn(\"max_salary\", max(col(\"salary\")).over(window)).withColumn(\"min_salary\", min(col(\"salary\")).over(window))\n",
    "df1.show()\n",
    "\n",
    "#-------------------------------------------------------------------------"
   ]
  }
 ],
 "metadata": {
  "kernelspec": {
   "display_name": "Python [conda env:py36]",
   "language": "python",
   "name": "conda-env-py36-py"
  },
  "language_info": {
   "codemirror_mode": {
    "name": "ipython",
    "version": 3
   },
   "file_extension": ".py",
   "mimetype": "text/x-python",
   "name": "python",
   "nbconvert_exporter": "python",
   "pygments_lexer": "ipython3",
   "version": "3.6.10"
  }
 },
 "nbformat": 4,
 "nbformat_minor": 5
}
